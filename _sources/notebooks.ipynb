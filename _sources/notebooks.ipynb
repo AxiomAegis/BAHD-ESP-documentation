{
  "cells": [
    {
      "cell_type": "markdown",
      "metadata": {
        "deletable": true,
        "editable": true,
        "frozen": false
      },
      "source": [
        "# BAHD-ESP code running tutorial"
      ]
    },
    {
      "cell_type": "markdown",
      "metadata": {
        "deletable": true,
        "editable": true,
        "frozen": false
      },
      "source": [
        "## Environment building"
      ]
    },
    {
      "cell_type": "markdown",
      "metadata": {
        "deletable": true,
        "editable": true,
        "frozen": false
      },
      "source": [
        "### Build the runtime environment code"
      ]
    },
    {
      "cell_type": "markdown",
      "metadata": {
        "deletable": true,
        "editable": true,
        "frozen": false
      },
      "source": [
        "```bash\n",
        "mamba env create -f env.yaml\n",
        "```"
      ]
    },
    {
      "cell_type": "markdown",
      "metadata": {
        "deletable": true,
        "editable": true,
        "frozen": false
      },
      "source": [
        "### Large model training weights download\n",
        "- Download link：\n",
        "https://zenodo.org/records/14635915"
      ]
    },
    {
      "cell_type": "markdown",
      "metadata": {
        "deletable": true,
        "editable": true,
        "frozen": false
      },
      "source": [
        "```bash\n",
        "# Decompress the pre-trained model\n",
        "7z x pretrained_model.7z\n",
        "# Place folders in the following hierarchy\n",
        ".\n",
        "├── code\n",
        "├── data\n",
        "├── env.yaml\n",
        "├── final_saved_predictions\n",
        "├── GB_saved_predictions\n",
        "├── logs\n",
        "├── model_metrics\n",
        "├── prediction_code\n",
        "├── pretrained_model\n",
        "├── README.md\n",
        "├── saved_model\n",
        "└── saved_predictions\n",
        "\n",
        "# Decompress the BAHD_ESP_1gpus_bs72_1e-05_layers6.txt.pkl.7z\n",
        "7z x BAHD_ESP_1gpus_bs72_1e-05_layers6.txt.pkl.7z\n",
        "# Place the PKL file under `saved_model` folder in the following hierarchy\n",
        "saved_model\n",
        "├── BAHD_ESP_1gpus_bs72_1e-05_layers6.txt.pkl\n",
        "└── BAHD_ESP_xgb\n",
        "    ├── cls.pkl\n",
        "    ├── ESM1b_ChemBERTa_cls.pkl\n",
        "    ├── ESM1b_ChemBERTa.pkl\n",
        "    ├── y_val_pred_all_cls.pkl\n",
        "    ├── y_val_pred_all.pkl\n",
        "    └── y_val_pred_cls.pkl\n",
        "```"
      ]
    },
    {
      "cell_type": "markdown",
      "metadata": {
        "deletable": true,
        "editable": true,
        "frozen": false
      },
      "source": [
        "## Training process"
      ]
    },
    {
      "cell_type": "markdown",
      "metadata": {
        "deletable": true,
        "editable": true,
        "frozen": false,
        "jp-MarkdownHeadingCollapsed": true
      },
      "source": [
        "```{important}\n",
        "Ensure that all samples to be tested have been pre-processed here and the embedding information has been extracted\n",
        "```"
      ]
    },
    {
      "cell_type": "markdown",
      "metadata": {
        "deletable": true,
        "editable": true,
        "frozen": false
      },
      "source": [
        "### Preprocessing: Extracting embedding information"
      ]
    },
    {
      "cell_type": "markdown",
      "metadata": {
        "deletable": true,
        "editable": true,
        "frozen": false
      },
      "source": [
        "```python\n",
        "CUDA_VISIBLE_DEVICES=1 python code/preprocessing/preprocessing.py --train_val_path data/training_data/train_val_BAHD \\\n",
        "                                                               --outpath data/training_data/embeddings \\\n",
        "                                                               --smiles_emb_no 2000 --prot_emb_no 2000\n",
        "```"
      ]
    },
    {
      "cell_type": "markdown",
      "metadata": {
        "deletable": true,
        "editable": true,
        "frozen": false
      },
      "source": [
        "### Train a large model"
      ]
    },
    {
      "cell_type": "markdown",
      "metadata": {
        "deletable": true,
        "editable": true,
        "frozen": false
      },
      "source": [
        "```python\n",
        "CUDA_VISIBLE_DEVICES=1 python code/training/training.py --train_dir data/training_data/train_val_BAHD/BAHD_ESP_train_df.csv \\\n",
        "                                --val_dir data/training_data/train_val_BAHD/BAHD_ESP_val_df.csv \\\n",
        "                                --model_prefix BAHD_ESP_ \\\n",
        "                                --embed_path data/training_data/embeddings \\\n",
        "                                --save_model_path saved_model \\\n",
        "                                --pretrained_model pretrained_model/pretraining_IC50_6gpus_bs144_1.5e-05_layers6.txt.pkl \\\n",
        "                                --learning_rate 1e-5  --num_hidden_layers 6 --batch_size 72 --binary_task True \\\n",
        "                                --num_train_epochs 100 --port 12558          \n",
        "```                               "
      ]
    },
    {
      "cell_type": "markdown",
      "metadata": {
        "deletable": true,
        "editable": true,
        "frozen": false
      },
      "source": [
        "### Train a gradient boosting tree"
      ]
    },
    {
      "cell_type": "markdown",
      "metadata": {
        "deletable": true,
        "editable": true,
        "frozen": false
      },
      "source": [
        "```python\n",
        "CUDA_VISIBLE_DEVICES=1 python code/training/training_GB.py --train_dir data/training_data/train_val_BAHD/BAHD_ESP_train_df.csv \\\n",
        "                                --val_dir data/training_data/train_val_BAHD/BAHD_ESP_val_df.csv \\\n",
        "                                --test_dir data/training_data/train_val_BAHD/T1_ESP_test_df.csv \\\n",
        "                                --pretrained_model saved_model/BAHD_ESP_1gpus_bs72_1e-05_layers6.txt.pkl \\\n",
        "                                --embed_path data/training_data/embeddings \\\n",
        "                                --save_xgb_path saved_model/BAHD_ESP_xgb \\\n",
        "                                --save_pred_path GB_saved_predictions \\\n",
        "                                --num_hidden_layers 6 --num_iter 500 --binary_task True \n",
        "```                                "
      ]
    },
    {
      "cell_type": "markdown",
      "metadata": {
        "deletable": true,
        "editable": true,
        "frozen": false
      },
      "source": [
        "## Independent test code"
      ]
    },
    {
      "cell_type": "markdown",
      "metadata": {
        "deletable": true,
        "editable": true,
        "frozen": false,
        "jp-MarkdownHeadingCollapsed": true
      },
      "source": [
        "```{important}\n",
        "Please manually change the path of the test CSV and the path to save the result.\n",
        "```"
      ]
    },
    {
      "cell_type": "markdown",
      "metadata": {
        "deletable": true,
        "editable": true,
        "frozen": false
      },
      "source": [
        "```python\n",
        "CUDA_VISIBLE_DEVICES=1 python prediction_code/predictionForBAHD.py\n",
        "```"
      ]
    },
    {
      "cell_type": "code",
      "execution_count": null,
      "metadata": {
        "deletable": true,
        "editable": true,
        "frozen": false
      },
      "outputs": [],
      "source": []
    }
  ],
  "metadata": {
    "kernelspec": {
      "display_name": "Python [conda env:esmIne3]",
      "language": "python",
      "name": "python3"
    },
    "language_info": {
      "codemirror_mode": {
        "name": "ipython",
        "version": 3
      },
      "file_extension": ".py",
      "mimetype": "text/x-python",
      "name": "python",
      "nbconvert_exporter": "python",
      "pygments_lexer": "ipython3",
      "version": "3.12.9"
    },
    "widgets": {
      "application/vnd.jupyter.widget-state+json": {
        "state": {},
        "version_major": 2,
        "version_minor": 0
      }
    }
  },
  "nbformat": 4,
  "nbformat_minor": 4
}
